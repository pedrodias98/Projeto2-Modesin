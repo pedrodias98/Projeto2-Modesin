{
 "cells": [
  {
   "cell_type": "code",
   "execution_count": null,
   "metadata": {
    "collapsed": true
   },
   "outputs": [],
   "source": [
    "from IMC_Calculator import Calcular_IMC()\n",
    "\n",
    "Ms: #Quantidade de morfina absorvida no sangue\n",
    "m:  #Quantidade de Morfina\n",
    "c:  #Capacidade a capacidade máxima do corpo de excretar morfina\n",
    "f:  #Função da quantidade de morfina na injeção/via oral: Relaciona massa(w)/altura(h) -(IMC)- a quantidade de morfina\n",
    "g:  #Função de excreção de morfina: Relaciona a capacidade máxima do corpo de excretar morfina e a a quantidade de morfina no sangue (fator limitante)\n",
    "\n",
    "#ESTOQUES E FLUXOS (EQUÇÕES À DIFRENÇAS):\n",
    " #Ms(t+1) = Ms(t) + f(h,w,m) - g(c,Ms)\n",
    "\n",
    "\n",
    "\n",
    "\"\"\"\n",
    "Via oral: 0,2 a 0,5 (0,3500) mg/kg, a cada 4 a 24 horas.\n",
    "\n",
    "Injetável:\n",
    "\n",
    "- Recem-Nascido:\n",
    "\n",
    "    #0,05 a 0,2 (0,1250) mg/kg/dose, a cada 2 a 4 horas\n",
    "\n",
    "    #em administração contínua de 0,01 a 0,04(0,0250) mg/kg/hora.\n",
    "\n",
    "-Dose Criança:\n",
    "\n",
    "    #inicial: 0,05 mg/kg;\n",
    "\n",
    "    #manutenção: 0,1 a 0,2  (0,1500) mg/kg/dose, a cada 2 e 4 horas;\n",
    " \n",
    "    #dose máxima: 15 mg/dose; infusão contínua: 0,025 a 0,1 (0,0625 ) mg/kg/hora.\n",
    "\"\"\"\n",
    "print(\"Recém Nascido até 28 dias digite 0 e Crianças de 28 dias até 10 anos digite 1\")\n",
    "idade = input(\"Digite o comando da idade:\")\n",
    "if idade == 0:\n",
    "   \n",
    "    Calcular_IMC()\n",
    "    m = 0,1250/IMC"
   ]
  }
 ],
 "metadata": {
  "kernelspec": {
   "display_name": "Python 3",
   "language": "python",
   "name": "python3"
  },
  "language_info": {
   "codemirror_mode": {
    "name": "ipython",
    "version": 3.0
   },
   "file_extension": ".py",
   "mimetype": "text/x-python",
   "name": "python",
   "nbconvert_exporter": "python",
   "pygments_lexer": "ipython3",
   "version": "3.6.0"
  }
 },
 "nbformat": 4,
 "nbformat_minor": 0
}